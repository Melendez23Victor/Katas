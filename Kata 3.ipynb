{
 "cells": [
  {
   "cell_type": "markdown",
   "metadata": {},
   "source": [
    "# Escribir declaraciones if, else, y elif"
   ]
  },
  {
   "cell_type": "code",
   "execution_count": null,
   "metadata": {},
   "outputs": [],
   "source": [
    "velocidad_asteroide = 49\n",
    "velocidad_de_advertencia = 25\n",
    "if velocidad_asteroide > velocidad_de_advertencia:\n",
    "    print(\"Existe peligro\")\n",
    "elif velocidad_asteroide == velocidad_de_advertencia:\n",
    "    print(\"Existe un ligero riesgo\")\n",
    "else: \n",
    "    print(\"No hay peligro\")"
   ]
  },
  {
   "cell_type": "code",
   "execution_count": null,
   "metadata": {},
   "outputs": [],
   "source": [
    "velocidad_asteroide = 49\n",
    "if velocidad_asteroide >= 20\n",
    "    print(\"Mira el cielo\")\n",
    "else\n",
    "    print(\"No ha pasado nada\")"
   ]
  },
  {
   "cell_type": "markdown",
   "metadata": {},
   "source": [
    "# Uso de operadores and y or"
   ]
  },
  {
   "cell_type": "code",
   "execution_count": null,
   "metadata": {},
   "outputs": [],
   "source": [
    "velocidad_asteroide = 12\n",
    "tamaño_asteroide = 40\n",
    "if tamaño_asteroide > 25 and velocidad_asteroide > 25:\n",
    "    print(\"Dile a tu crush que la amas antes de quetodo termine\")\n",
    "elif velocidad_asteroide >= 20:\n",
    "    print(\"Mira el cielo\")\n",
    "elif tamaño_asteroide < 25 and velocidad_asteroide < 100:\n",
    "    print(\"El asteroide se destruira\")\n",
    "else:\n",
    "    print(\"Nada que ver\")\n"
   ]
  }
 ],
 "metadata": {
  "interpreter": {
   "hash": "c6fccb1678f455ad7feb39d24f05284d663779b65425bec0834c30c55bd435dc"
  },
  "kernelspec": {
   "display_name": "Python 3.9.10 64-bit (windows store)",
   "language": "python",
   "name": "python3"
  },
  "language_info": {
   "codemirror_mode": {
    "name": "ipython",
    "version": 3
   },
   "file_extension": ".py",
   "mimetype": "text/x-python",
   "name": "python",
   "nbconvert_exporter": "python",
   "pygments_lexer": "ipython3",
   "version": "3.9.10"
  },
  "orig_nbformat": 4
 },
 "nbformat": 4,
 "nbformat_minor": 2
}
